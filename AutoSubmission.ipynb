{
 "cells": [
  {
   "cell_type": "code",
   "execution_count": null,
   "metadata": {},
   "outputs": [],
   "source": [
    "from selenium import webdriver\n",
    "#A browser object\n",
    "browser = webdriver.Chrome('chromedriver.exe')\n",
    "browser.get(\"https://www.codechef.com/\")\n",
    "username_element = browser.find_element_by_id(\"edit-name\")\n",
    "username_element.clear()\n",
    "username_element.send_keys(\"saurav_hellow\")\n",
    "password_element = browser.find_element_by_id(\"edit-pass\")\n",
    "password_element.clear()\n",
    "from getpass import getpass\n",
    "password_element.send_keys(getpass(\"Enter Password :\"))\n",
    "browser.find_element_by_id(\"edit-submit\").click()\n",
    "\n",
    "browser.get(\"https://www.codechef.com/submit/TEST\")\n",
    "\n",
    "browser.find_element_by_id(\"edit-submit\").click()\n",
    "\n",
    "browser.find_element_by_id(\"edit_area_toggle_checkbox_edit-program\").click()\n",
    "\n",
    "with open(\"solution.cpp\",'r') as f:\n",
    "    code=f.read()\n",
    "\n",
    "codeelement=browser.find_element_by_id('edit-program')\n",
    "codeelement.clear()\n",
    "codeelement.send_keys(code)\n",
    "\n",
    "browser.find_element_by_xpath('//*[@id=\"edit-language\"]/option[1]').click()\n",
    "\n",
    "browser.find_element_by_id(\"edit-submit-1\").click()"
   ]
  },
  {
   "cell_type": "code",
   "execution_count": null,
   "metadata": {},
   "outputs": [],
   "source": []
  }
 ],
 "metadata": {
  "kernelspec": {
   "display_name": "Python 3",
   "language": "python",
   "name": "python3"
  },
  "language_info": {
   "codemirror_mode": {
    "name": "ipython",
    "version": 3
   },
   "file_extension": ".py",
   "mimetype": "text/x-python",
   "name": "python",
   "nbconvert_exporter": "python",
   "pygments_lexer": "ipython3",
   "version": "3.7.4"
  }
 },
 "nbformat": 4,
 "nbformat_minor": 2
}
